{
 "cells": [
  {
   "cell_type": "code",
   "execution_count": 1,
   "metadata": {},
   "outputs": [],
   "source": [
    "import numpy as np\n",
    "import pandas as pd\n",
    "import math\n",
    "import pickle\n",
    "import h5py as h5\n",
    "import matplotlib.pyplot as plt\n",
    "\n",
    "%matplotlib inline\n",
    "np.random.seed(1)"
   ]
  },
  {
   "cell_type": "markdown",
   "metadata": {},
   "source": [
    "# Define neural network layers and units"
   ]
  },
  {
   "cell_type": "code",
   "execution_count": 2,
   "metadata": {},
   "outputs": [],
   "source": [
    "def init_parameters(layer_dims):\n",
    "    params = {}\n",
    "    for l in range(1,len(layer_dims)):\n",
    "        params[\"W\"+str(l)] = np.random.randn(layer_dims[l], layer_dims[l-1]) * np.sqrt(2/(layer_dims[l-1]+layer_dims[l]))\n",
    "        params[\"b\"+str(l)] = np.zeros((layer_dims[l], 1))\n",
    "        \n",
    "    return params"
   ]
  },
  {
   "cell_type": "code",
   "execution_count": 3,
   "metadata": {},
   "outputs": [],
   "source": [
    "def linear_forward(A, W, b):\n",
    "    Z = np.dot(W, A) + b\n",
    "    cache = (A, W, b)\n",
    "    \n",
    "    return Z, cache"
   ]
  },
  {
   "cell_type": "code",
   "execution_count": 4,
   "metadata": {},
   "outputs": [],
   "source": [
    "def relu(Z):\n",
    "    A = np.maximum(0,Z)\n",
    "    cache = Z\n",
    "    return A, cache\n",
    "\n",
    "def softmax(Z, axis=None):\n",
    "    cache = Z\n",
    "    Z = Z - Z.max(axis=axis, keepdims=True)\n",
    "    y = np.exp(Z)\n",
    "    return y / np.sum(y, axis=axis, keepdims=True), cache\n",
    "\n",
    "def sigmoid(Z):\n",
    "    A = 1/(1+np.exp(-Z))\n",
    "    cache = Z\n",
    "    return A, cache"
   ]
  },
  {
   "cell_type": "code",
   "execution_count": 5,
   "metadata": {},
   "outputs": [],
   "source": [
    "def linear_activation_forward(A_prev, W, b, activation):\n",
    "    if activation == \"relu\":\n",
    "        Z, linear_cache  = linear_forward(A_prev, W, b)\n",
    "        A, activation_cache = relu(Z)\n",
    "    elif activation == \"softmax\":\n",
    "        Z, linear_cache = linear_forward(A_prev, W, b)\n",
    "        A, activation_cache = softmax(Z)\n",
    "    elif activation ==\"sigmoid\":\n",
    "        Z, linear_cache = linear_forward(A_prev, W, b)\n",
    "        A, activation_cache = sigmoid(Z)\n",
    "        \n",
    "    cache = (linear_cache, activation_cache)\n",
    "    \n",
    "    return A, cache"
   ]
  },
  {
   "cell_type": "code",
   "execution_count": 6,
   "metadata": {},
   "outputs": [],
   "source": [
    "def forward_prop(X, params):\n",
    "    caches = list()\n",
    "    A = X\n",
    "    L = len(params) // 2 # no of paramaters divided by 2 w1 and b1 for no of layers\n",
    "    for l in range(1, L):\n",
    "        W = params[\"W\"+str(l)]\n",
    "        b = params[\"b\"+str(l)]\n",
    "        A, cache = linear_activation_forward(A, W, b, \"relu\")\n",
    "        caches.append(cache)\n",
    "    #final layer\n",
    "    W = params[\"W\"+str(L)]\n",
    "    b = params[\"b\"+str(L)]\n",
    "    AL, cache = linear_activation_forward(A, W, b, \"sigmoid\")\n",
    "    caches.append(cache)\n",
    "    \n",
    "    return AL, caches"
   ]
  },
  {
   "cell_type": "code",
   "execution_count": 48,
   "metadata": {},
   "outputs": [],
   "source": [
    "def compute_cost(AL, Y, lambd, caches):\n",
    "    m = Y.shape[1]\n",
    "    weight_sum = 0\n",
    "    #logarithimic cost\n",
    "    \n",
    "    logprobs = np.multiply(-np.log(AL),Y) + np.multiply(-np.log(1 - AL), 1 - Y)\n",
    "    non_reg_cost = 1./m * np.nansum(logprobs)\n",
    "    \n",
    "    for i in range(0, len(caches)):\n",
    "        linear_cache, _ = caches[i]\n",
    "        _, W ,_  = linear_cache\n",
    "        weight_sum += np.sum(np.square(W))\n",
    "            \n",
    "    L2 = (1/m) * (lambd /2) * weight_sum\n",
    "\n",
    "    return non_reg_cost + L2"
   ]
  },
  {
   "cell_type": "code",
   "execution_count": 117,
   "metadata": {},
   "outputs": [],
   "source": [
    "def d_cost(AL, Y):\n",
    "    m = Y.shape[1]\n",
    "    dAL = -(Y * (1/AL) ) + ( (1 - Y) * (1/(1-AL)) )\n",
    "    return dAL\n",
    "\n",
    "def relu_backward(dA, cache):\n",
    "    Z = cache\n",
    "    dZ = np.array(dA, copy=True)\n",
    "    dZ[Z <= 0] = 0\n",
    "    return dZ\n",
    "\n",
    "def softmax_backward(dA, cache):\n",
    "    z2e = np.exp(cache)\n",
    "    temp = np.zeros((z2e.shape))\n",
    "    for i in range(z2e.shape[0]):\n",
    "        mask = np.ones(z2e.shape, dtype=bool)\n",
    "        mask[i] = 0\n",
    "        temp[i] =  (z2e[i] * np.sum(z2e[mask])) / (np.sum(z2e) * 2)\n",
    "    return temp * dA\n",
    "\n",
    "def sigmoid_backward(dA, cache):\n",
    "    Z = cache\n",
    "    s = 1/(1+np.exp(-Z))\n",
    "    dZ = dA * s * (1-s)\n",
    "    return dZ"
   ]
  },
  {
   "cell_type": "code",
   "execution_count": 122,
   "metadata": {},
   "outputs": [],
   "source": [
    "def linear_backward(dZ, cache, lambd):\n",
    "    A_prev, W, b = cache\n",
    "    m = A_prev.shape[1]\n",
    "    dW = (1/m) * np.dot(dZ, A_prev.T) + (lambd / m) * W\n",
    "    db = (1/m) * np.sum(dZ, axis=1, keepdims=True)\n",
    "    dA_prev = np.dot(W.T,dZ)\n",
    "    \n",
    "    return dA_prev, dW, db"
   ]
  },
  {
   "cell_type": "code",
   "execution_count": 121,
   "metadata": {},
   "outputs": [],
   "source": [
    "def linear_activation_backward(dA, cache, lambd, activation):\n",
    "    linear_cache, activation_cache = cache\n",
    "    \n",
    "    if activation == \"relu\":\n",
    "        dZ = relu_backward(dA, activation_cache)\n",
    "        dA_prev, dW, db = linear_backward(dZ, linear_cache, lambd)\n",
    "    elif activation == \"softmax\":\n",
    "        #dZ = softmax_backward(dA, activation_cache)\n",
    "        dA_prev, dW, db = linear_backward(dA, linear_cache, lambd) #already calculated\n",
    "    elif activation == \"sigmoid\":\n",
    "        #dZ = sigmoid_backward(dA, activation_cache)\n",
    "        dA_prev, dW, db = linear_backward(dA, linear_cache, lambd) #already calculated\n",
    "    \n",
    "    return dA_prev, dW, db"
   ]
  },
  {
   "cell_type": "code",
   "execution_count": 120,
   "metadata": {},
   "outputs": [],
   "source": [
    "def back_prop(AL, Y, caches, lambd):\n",
    "\n",
    "    grads = {}\n",
    "    L = len(caches) # the number of layers\n",
    "    m = AL.shape[1]\n",
    "    Y = Y.reshape(AL.shape) # after this line, Y is the same shape as AL\n",
    "    \n",
    "    # Initializing the backpropagation\n",
    "    #dAL = d_cost(AL, Y)\n",
    "    dZ = AL - Y\n",
    "\n",
    "    current_cache = caches[L-1]\n",
    "    grads[\"dA\" + str(L-1)], grads[\"dW\" + str(L)], grads[\"db\" + str(L)] = linear_activation_backward(dZ, current_cache, lambd, activation=\"sigmoid\")\n",
    "    \n",
    "    # Loop from l=L-2 to l=0\n",
    "    for l in reversed(range(L-1)):\n",
    "        current_cache = caches[l]\n",
    "        dA_prev_temp, dW_temp, db_temp = linear_activation_backward(grads[\"dA\" + str(l+1)], current_cache, lambd, activation=\"relu\")\n",
    "        grads[\"dA\" + str(l)] = dA_prev_temp\n",
    "        grads[\"dW\" + str(l + 1)] = dW_temp\n",
    "        grads[\"db\" + str(l + 1)] = db_temp\n",
    "\n",
    "    return grads"
   ]
  },
  {
   "cell_type": "code",
   "execution_count": 127,
   "metadata": {},
   "outputs": [],
   "source": [
    "def update_parameters(parameters, grads, learning_rate):\n",
    "    L = len(parameters) // 2 \n",
    "    for l in range(L):\n",
    "        parameters[\"W\" + str(l+1)] = parameters[\"W\" + str(l+1)] - (learning_rate * grads[\"dW\" + str(l+1)])\n",
    "        parameters[\"b\" + str(l+1)] = parameters[\"b\" + str(l+1)] - (learning_rate * grads[\"db\" + str(l+1)])\n",
    "    return parameters"
   ]
  },
  {
   "cell_type": "code",
   "execution_count": 13,
   "metadata": {},
   "outputs": [],
   "source": [
    "def accuracy(AL, Y, threshold = 0.5):\n",
    "    AL[AL <=threshold] = 0\n",
    "    AL[AL >threshold] = 1\n",
    "    correct = (Y == AL)\n",
    "    return (np.sum(correct) /correct.shape[1]) * 100"
   ]
  },
  {
   "cell_type": "code",
   "execution_count": 199,
   "metadata": {},
   "outputs": [],
   "source": [
    "def train(X, Y, X_test, Y_test, layers_dims, learning_rate = 0.005, num_iterations = 1000, print_cost=True, lambd = 0.2):\n",
    "\n",
    "    costs = [] # keep track of cost\n",
    "    params = init_parameters(layer_dims)\n",
    "    m = Y.shape[1]\n",
    "\n",
    "    # Loop (gradient descent)\n",
    "    for i in range(0, num_iterations):\n",
    "\n",
    "        # Forward propagation: [LINEAR -> RELU]*(L-1) -> LINEAR -> SIGMOID.\n",
    "        AL, caches = forward_prop(X, params)\n",
    "        \n",
    "        # Compute cost.\n",
    "        cost = compute_cost(AL, Y, lambd, caches)\n",
    "    \n",
    "        # Backward propagation.\n",
    "        grads =  back_prop(AL, Y, caches, lambd)\n",
    " \n",
    "        # Update parameters.\n",
    "        params = update_parameters(params, grads, learning_rate)\n",
    "                \n",
    "        # Print the cost every 100 training example\n",
    "        if print_cost and i % 100 == 0:\n",
    "            train_acc = accuracy(AL, Y_train)\n",
    "            AL_test, _ = forward_prop(X_test, params)\n",
    "            test_acc = accuracy(AL_test, Y_test)\n",
    "            print(\"Cost after iteration {0}: {1:.4f} - train acc: {2:.2f} - test acc: {3:.2f}\".format(i,cost,train_acc,test_acc))\n",
    "        if print_cost and i % 100 == 0:\n",
    "            costs.append(cost)\n",
    "        if cost < 0.0001:\n",
    "            return params, AL\n",
    "    # plot the cost\n",
    "    plt.plot(np.squeeze(costs))\n",
    "    plt.ylabel('cost')\n",
    "    plt.xlabel('iterations (per tens)')\n",
    "    plt.title(\"Learning rate =\" + str(learning_rate))\n",
    "    plt.show()\n",
    "    \n",
    "    return params, AL"
   ]
  },
  {
   "cell_type": "code",
   "execution_count": 125,
   "metadata": {},
   "outputs": [],
   "source": [
    "def train_test_split(X, Y, split=80):\n",
    "    dataset_size = X.shape[1]\n",
    "    m_train = math.floor((dataset_size * split)/100)\n",
    "    X_train = X[:,0:m_train]\n",
    "    X_test = X[:,m_train-1:-1]\n",
    "    Y_train = Y[:,0:m_train]\n",
    "    Y_test = Y[:,m_train-1:-1]\n",
    "    \n",
    "    return X_train, Y_train, X_test, Y_test"
   ]
  },
  {
   "cell_type": "markdown",
   "metadata": {},
   "source": [
    "### Load Dataset"
   ]
  },
  {
   "cell_type": "code",
   "execution_count": 151,
   "metadata": {},
   "outputs": [],
   "source": [
    "train_dataset = h5.File('dataset/train_catvnoncat.h5', \"r\")\n",
    "X_train = train_dataset[\"train_set_x\"][:]\n",
    "Y_train = np.array([train_dataset[\"train_set_y\"][:]])\n",
    "\n",
    "test_dataset = h5.File('dataset/test_catvnoncat.h5', \"r\")\n",
    "X_test = test_dataset[\"test_set_x\"][:]\n",
    "Y_test = np.array([test_dataset[\"test_set_y\"][:]])"
   ]
  },
  {
   "cell_type": "markdown",
   "metadata": {},
   "source": [
    "###### Flatten Dataset and Normalize it"
   ]
  },
  {
   "cell_type": "code",
   "execution_count": 152,
   "metadata": {},
   "outputs": [],
   "source": [
    "X_train_flatten = X_train.reshape(X_train.shape[0], -1).T\n",
    "X_test_flatten = X_test.reshape(X_test.shape[0], -1).T\n",
    "X_train_norm = X_train_flatten/255.\n",
    "X_test_norm = X_test_flatten/255.\n",
    "\n",
    "m_train = X_train_norm.shape[1]\n",
    "m_test = X_test_norm.shape[1]\n",
    "n_x = X_train_norm.shape[0]\n",
    "n_y = Y_train.shape[0]"
   ]
  },
  {
   "cell_type": "code",
   "execution_count": 38,
   "metadata": {},
   "outputs": [
    {
     "data": {
      "text/plain": [
       "<matplotlib.image.AxesImage at 0x1a484de1080>"
      ]
     },
     "execution_count": 38,
     "metadata": {},
     "output_type": "execute_result"
    },
    {
     "data": {
      "image/png": "[encoded data removed]",
      "text/plain": [
       "<Figure size 432x288 with 1 Axes>"
      ]
     },
     "metadata": {},
     "output_type": "display_data"
    }
   ],
   "source": [
    "plt.imshow(X_test[0])"
   ]
  },
  {
   "cell_type": "markdown",
   "metadata": {},
   "source": [
    "### Params saver"
   ]
  },
  {
   "cell_type": "code",
   "execution_count": 39,
   "metadata": {},
   "outputs": [],
   "source": [
    "# params_1 = params # [n_x, 8, 8, n_y] , num_iterations = 10000, learning_rate=0.001 train_acc = 99.4 test_acc = 72.0 "
   ]
  },
  {
   "cell_type": "code",
   "execution_count": 40,
   "metadata": {},
   "outputs": [],
   "source": [
    "# params_2 = params # [n_x, 8, n_y] , num_iterations = 2000, learning_rate=0.005 train_acc = 100 test_acc = 74.0 "
   ]
  },
  {
   "cell_type": "markdown",
   "metadata": {},
   "source": [
    "### Define network and Train it"
   ]
  },
  {
   "cell_type": "code",
   "execution_count": 218,
   "metadata": {},
   "outputs": [
    {
     "name": "stdout",
     "output_type": "stream",
     "text": [
      "Cost after iteration 0: 0.7903 - train acc: 32.06 - test acc: 52.00\n",
      "Cost after iteration 100: 0.5225 - train acc: 77.51 - test acc: 40.00\n",
      "Cost after iteration 200: 0.4307 - train acc: 85.65 - test acc: 42.00\n",
      "Cost after iteration 300: 0.3625 - train acc: 88.52 - test acc: 46.00\n",
      "Cost after iteration 400: 0.2986 - train acc: 89.95 - test acc: 50.00\n",
      "Cost after iteration 500: 0.2598 - train acc: 91.39 - test acc: 50.00\n",
      "Cost after iteration 600: 0.2002 - train acc: 95.22 - test acc: 62.00\n",
      "Cost after iteration 700: 0.1506 - train acc: 97.13 - test acc: 62.00\n",
      "Cost after iteration 800: 0.1319 - train acc: 97.13 - test acc: 62.00\n",
      "Cost after iteration 900: 0.0893 - train acc: 98.56 - test acc: 66.00\n",
      "Cost after iteration 1000: 0.0630 - train acc: 99.52 - test acc: 72.00\n",
      "Cost after iteration 1100: 0.0525 - train acc: 99.52 - test acc: 74.00\n",
      "Cost after iteration 1200: 0.0448 - train acc: 99.52 - test acc: 72.00\n",
      "Cost after iteration 1300: 0.0388 - train acc: 99.52 - test acc: 72.00\n",
      "Cost after iteration 1400: 0.0342 - train acc: 99.52 - test acc: 72.00\n",
      "Cost after iteration 1500: 0.0304 - train acc: 99.52 - test acc: 74.00\n",
      "Cost after iteration 1600: 0.0273 - train acc: 99.52 - test acc: 72.00\n",
      "Cost after iteration 1700: 0.0248 - train acc: 99.52 - test acc: 72.00\n",
      "Cost after iteration 1800: 0.0227 - train acc: 99.52 - test acc: 72.00\n",
      "Cost after iteration 1900: 0.0209 - train acc: 99.52 - test acc: 72.00\n"
     ]
    },
    {
     "data": {
      "image/png": "[encoded data removed]",
      "text/plain": [
       "<Figure size 432x288 with 1 Axes>"
      ]
     },
     "metadata": {},
     "output_type": "display_data"
    }
   ],
   "source": [
    "# # ## define the network here\n",
    "layer_dims = [n_x, 8, n_y]\n",
    "\n",
    "params, AL = train(X_train_norm, Y_train, X_test_norm, Y_test,layer_dims, print_cost=True, num_iterations = 2000, learning_rate=0.01, lambd = 0)"
   ]
  }
 ],
 "metadata": {
  "kernelspec": {
   "display_name": "Python 3",
   "language": "python",
   "name": "python3"
  },
  "language_info": {
   "codemirror_mode": {
    "name": "ipython",
    "version": 3
   },
   "file_extension": ".py",
   "mimetype": "text/x-python",
   "name": "python",
   "nbconvert_exporter": "python",
   "pygments_lexer": "ipython3",
   "version": "3.6.6"
  }
 },
 "nbformat": 4,
 "nbformat_minor": 2
}
