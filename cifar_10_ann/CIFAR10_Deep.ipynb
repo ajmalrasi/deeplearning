{
 "cells": [
  {
   "cell_type": "code",
   "execution_count": 1,
   "metadata": {},
   "outputs": [],
   "source": [
    "import numpy as np\n",
    "import math\n",
    "import pickle\n",
    "import matplotlib.pyplot as plt\n",
    "\n",
    "%matplotlib inline\n",
    "np.random.seed(1)"
   ]
  },
  {
   "cell_type": "code",
   "execution_count": 2,
   "metadata": {},
   "outputs": [],
   "source": [
    "def unpickle(file):\n",
    "    import pickle\n",
    "    with open(file, 'rb') as fo:\n",
    "        dicts = pickle.load(fo, encoding='bytes')\n",
    "        \n",
    "    return dicts"
   ]
  },
  {
   "cell_type": "code",
   "execution_count": 3,
   "metadata": {},
   "outputs": [],
   "source": [
    "def one_hot(Y_t, n_y):\n",
    "    Y_hot = np.zeros((n_y,Y_t.shape[1]))\n",
    "    Y_hot[Y_t, np.arange(Y_t.shape[1])] = 1\n",
    "    return Y_hot"
   ]
  },
  {
   "cell_type": "code",
   "execution_count": 4,
   "metadata": {},
   "outputs": [],
   "source": [
    "def one_hot_AL(AL):\n",
    "    AL_argmax = np.argmax(AL,axis=0)\n",
    "    hot = np.zeros((AL.shape),dtype=np.int)\n",
    "    hot[AL_argmax,np.arange(AL.shape[1])] = 1\n",
    "    return hot"
   ]
  },
  {
   "cell_type": "code",
   "execution_count": 5,
   "metadata": {},
   "outputs": [],
   "source": [
    "def save():\n",
    "    with open('models/params_16_8.p', 'wb') as f:\n",
    "        pickle.dump(params, f)"
   ]
  },
  {
   "cell_type": "markdown",
   "metadata": {},
   "source": [
    "# Define neural network layers and units"
   ]
  },
  {
   "cell_type": "code",
   "execution_count": 5,
   "metadata": {},
   "outputs": [],
   "source": [
    "def init_parameters(layer_dims, xavier=False):\n",
    "    params = {}\n",
    "    for l in range(1,len(layer_dims)):\n",
    "        if xavier:\n",
    "            params[\"W\"+str(l)] = np.random.randn(layer_dims[l], layer_dims[l-1]) * np.sqrt(2/(layer_dims[l-1]))\n",
    "        else:\n",
    "            params[\"W\"+str(l)] = np.random.randn(layer_dims[l], layer_dims[l-1]) * 0.01\n",
    "        params[\"b\"+str(l)] = np.zeros((layer_dims[l], 1))\n",
    "        \n",
    "    return params"
   ]
  },
  {
   "cell_type": "markdown",
   "metadata": {},
   "source": [
    "## Forward Propogation"
   ]
  },
  {
   "cell_type": "code",
   "execution_count": 6,
   "metadata": {},
   "outputs": [],
   "source": [
    "def linear_forward(A, W, b):\n",
    "    Z = np.dot(W, A) + b\n",
    "    cache = (A, W, b)\n",
    "    \n",
    "    return Z, cache"
   ]
  },
  {
   "cell_type": "markdown",
   "metadata": {},
   "source": [
    "#### Helper activation functions"
   ]
  },
  {
   "cell_type": "code",
   "execution_count": 7,
   "metadata": {},
   "outputs": [],
   "source": [
    "def relu(Z):\n",
    "    A = np.maximum(0,Z)\n",
    "    cache = Z\n",
    "    return A, cache\n",
    "\n",
    "def softmax(Z, axis=0):\n",
    "    cache = Z\n",
    "    Z = Z - Z.max(axis=axis, keepdims=True)\n",
    "    y = np.exp(Z)\n",
    "    return y / np.sum(y,axis=axis), cache\n",
    "\n",
    "def sigmoid(Z):\n",
    "    A = 1/(1+np.exp(-Z))\n",
    "    cache = Z\n",
    "    return A, cache"
   ]
  },
  {
   "cell_type": "code",
   "execution_count": 8,
   "metadata": {},
   "outputs": [],
   "source": [
    "def linear_activation_forward(A_prev, W, b, activation):\n",
    "    if activation == \"relu\":\n",
    "        Z, linear_cache  = linear_forward(A_prev, W, b)\n",
    "        A, activation_cache = relu(Z)\n",
    "    elif activation == \"softmax\":\n",
    "        Z, linear_cache = linear_forward(A_prev, W, b)\n",
    "        A, activation_cache = softmax(Z)\n",
    "    elif activation ==\"sigmoid\":\n",
    "        Z, linear_cache = linear_forward(A_prev, W, b)\n",
    "        A, activation_cache = sigmoid(Z)\n",
    "        \n",
    "    cache = (linear_cache, activation_cache)\n",
    "    \n",
    "    return A, cache"
   ]
  },
  {
   "cell_type": "code",
   "execution_count": 9,
   "metadata": {},
   "outputs": [],
   "source": [
    "def forward_prop(X, params):\n",
    "    caches = list()\n",
    "    A = X\n",
    "    L = len(params) // 2 # no of paramaters divided by 2 w1 and b1 for no of layers\n",
    "    for l in range(1, L):\n",
    "        W = params[\"W\"+str(l)]\n",
    "        b = params[\"b\"+str(l)]\n",
    "        A, cache = linear_activation_forward(A, W, b, \"relu\")\n",
    "        caches.append(cache)\n",
    "    #final layer\n",
    "    W = params[\"W\"+str(L)]\n",
    "    b = params[\"b\"+str(L)]\n",
    "    AL, cache = linear_activation_forward(A, W, b, \"softmax\")\n",
    "    caches.append(cache)\n",
    "    \n",
    "    return AL, caches"
   ]
  },
  {
   "cell_type": "markdown",
   "metadata": {},
   "source": [
    "## Compute Cost "
   ]
  },
  {
   "cell_type": "code",
   "execution_count": 10,
   "metadata": {},
   "outputs": [],
   "source": [
    "def compute_cost(AL, Y, lambd, caches):\n",
    "    m = Y.shape[1]\n",
    "    weight_sum = 0\n",
    "    #logarithimic cost\n",
    "    \n",
    "    logprobs = -np.multiply(np.log(AL),Y) + np.multiply(-np.log(1 - AL), 1 - Y)\n",
    "    non_reg_cost = 1./m * np.nansum(logprobs)\n",
    "    \n",
    "    for i in range(0, len(caches)):\n",
    "        linear_cache, _ = caches[i]\n",
    "        _, W ,_  = linear_cache\n",
    "        weight_sum += np.sum(np.square(W))\n",
    "            \n",
    "    L2 = (1/m) * (lambd /2) * weight_sum\n",
    "\n",
    "    return non_reg_cost + L2"
   ]
  },
  {
   "cell_type": "markdown",
   "metadata": {},
   "source": [
    "## Derivatives Helpers"
   ]
  },
  {
   "cell_type": "code",
   "execution_count": 11,
   "metadata": {},
   "outputs": [],
   "source": [
    "def d_cost(AL, Y):\n",
    "    m = Y.shape[1]\n",
    "    dAL = -(Y * (1/AL) ) + ( (1 - Y) * (1/(1-AL)) )\n",
    "    return dAL\n",
    "\n",
    "def relu_backward(dA, cache):\n",
    "    Z = cache\n",
    "    dZ = np.array(dA, copy=True)\n",
    "    dZ[Z <= 0] = 0\n",
    "    return dZ\n",
    "\n",
    "def relu_gradient(dA, Z):\n",
    "    A, Z = relu(Z)\n",
    "    dZ = np.multiply(dA, np.int64(A > 0))\n",
    "    return dZ\n",
    "\n",
    "def softmax_backward(dA, cache):\n",
    "    z2e = np.exp(cache)\n",
    "    temp = np.zeros((z2e.shape))\n",
    "    for i in range(z2e.shape[0]):\n",
    "        mask = np.ones(z2e.shape, dtype=bool)\n",
    "        mask[i] = 0\n",
    "        temp[i] =  (z2e[i] * np.sum(z2e[mask])) / (np.sum(z2e) * 2)\n",
    "    return temp * dA\n",
    "\n",
    "def sigmoid_backward(dA, cache):\n",
    "    Z = cache\n",
    "    s = 1/(1+np.exp(-Z))\n",
    "    dZ = dA * s * (1-s)\n",
    "    return dZ"
   ]
  },
  {
   "cell_type": "markdown",
   "metadata": {},
   "source": [
    "## Back Propagation"
   ]
  },
  {
   "cell_type": "code",
   "execution_count": 12,
   "metadata": {},
   "outputs": [],
   "source": [
    "def linear_backward(dZ, cache, lambd):\n",
    "    A_prev, W, b = cache\n",
    "    m = A_prev.shape[1]\n",
    "    dW = (1/m) * np.dot(dZ, A_prev.T) + (lambd / m) * W\n",
    "    db = (1/m) * np.sum(dZ, axis=1, keepdims=True)\n",
    "    dA_prev = np.dot(W.T,dZ)\n",
    "    \n",
    "    return dA_prev, dW, db"
   ]
  },
  {
   "cell_type": "code",
   "execution_count": 13,
   "metadata": {},
   "outputs": [],
   "source": [
    "def linear_activation_backward(dA, cache, lambd, activation):\n",
    "    linear_cache, activation_cache = cache\n",
    "    \n",
    "    if activation == \"relu\":\n",
    "        dZ = relu_gradient(dA, activation_cache)\n",
    "        dA_prev, dW, db = linear_backward(dZ, linear_cache, lambd)\n",
    "    elif activation == \"softmax\":\n",
    "        #dZ = softmax_backward(dA, activation_cache)\n",
    "        dA_prev, dW, db = linear_backward(dA, linear_cache, lambd) #already calculated\n",
    "    elif activation == \"sigmoid\":\n",
    "        #dZ = sigmoid_backward(dA, activation_cache)\n",
    "        dA_prev, dW, db = linear_backward(dA, linear_cache, lambd) #already calculated\n",
    "    \n",
    "    return dA_prev, dW, db"
   ]
  },
  {
   "cell_type": "code",
   "execution_count": 14,
   "metadata": {},
   "outputs": [],
   "source": [
    "def back_prop(Al, Y, caches, lambd):\n",
    "\n",
    "    grads = {}\n",
    "    L = len(caches) # the number of layers\n",
    "    m = Al.shape[1]\n",
    "    Y = Y.reshape(AL.shape) # after this line, Y is the same shape as AL\n",
    "    \n",
    "    # Initializing the backpropagation\n",
    "    #dAL = d_cost(AL, Y)\n",
    "    dZ = Al - Y\n",
    "\n",
    "    current_cache = caches[L-1]\n",
    "    grads[\"dA\" + str(L-1)], grads[\"dW\" + str(L)], grads[\"db\" + str(L)] = linear_activation_backward(dZ, current_cache, lambd, activation=\"softmax\")\n",
    "    \n",
    "    # Loop from l=L-2 to l=0\n",
    "    for l in reversed(range(L-1)):\n",
    "        current_cache = caches[l]\n",
    "        dA_prev_temp, dW_temp, db_temp = linear_activation_backward(grads[\"dA\" + str(l+1)], current_cache, lambd, activation=\"relu\")\n",
    "        grads[\"dA\" + str(l)] = dA_prev_temp\n",
    "        grads[\"dW\" + str(l + 1)] = dW_temp\n",
    "        grads[\"db\" + str(l + 1)] = db_temp\n",
    "\n",
    "    return grads"
   ]
  },
  {
   "cell_type": "code",
   "execution_count": 15,
   "metadata": {},
   "outputs": [],
   "source": [
    "def update_parameters(parameters, grads, learning_rate):\n",
    "    L = len(parameters) // 2 \n",
    "    for l in range(L):\n",
    "        parameters[\"W\" + str(l+1)] = parameters[\"W\" + str(l+1)] - (learning_rate * grads[\"dW\" + str(l+1)])\n",
    "        parameters[\"b\" + str(l+1)] = parameters[\"b\" + str(l+1)] - (learning_rate * grads[\"db\" + str(l+1)])\n",
    "    return parameters"
   ]
  },
  {
   "cell_type": "code",
   "execution_count": 16,
   "metadata": {},
   "outputs": [],
   "source": [
    "def accuracy(AL, Y, threshold = 0.5):\n",
    "    Y_pred = one_hot_AL(AL)\n",
    "    correct = (Y != Y_pred)\n",
    "    return 100 - ( (np.sum(correct/2) /correct.shape[1]) * 100 )"
   ]
  },
  {
   "cell_type": "code",
   "execution_count": 57,
   "metadata": {},
   "outputs": [],
   "source": [
    "def train(X, Y, X_test, Y_test, layers_dims, lr = 0.005, num_iterations = 1000, print_cost=True, lambd = 5, re_train=False, param = None):\n",
    "\n",
    "    costs = [] # keep track of cost\n",
    "    if re_train:\n",
    "        params = param\n",
    "    else:\n",
    "        params = init_parameters(layer_dims)\n",
    "      \n",
    "    m = Y.shape[1]\n",
    "    global AL\n",
    "\n",
    "    # Loop (gradient descent)\n",
    "    for i in range(0, num_iterations):\n",
    "\n",
    "        # Forward propagation: [LINEAR -> RELU]*(L-1) -> LINEAR -> SOFTMAX.\n",
    "        AL, caches = forward_prop(X, params)\n",
    "        \n",
    "        # Compute cost.\n",
    "        cost = compute_cost(AL, Y, lambd, caches)\n",
    "        \n",
    "        # Backward propagation.\n",
    "        grads =  back_prop(AL, Y, caches, lambd)\n",
    " \n",
    "        # Update parameters.\n",
    "        params = update_parameters(params, grads, lr)\n",
    "        \n",
    "        # Print the cost every 100 training example\n",
    "        if print_cost and i % 100 == 0:\n",
    "            train_acc = accuracy(AL, Y_train)\n",
    "            AL_test, _ = forward_prop(X_test, params)\n",
    "            test_acc = accuracy(AL_test, Y_test)\n",
    "            print(\"Cost after iteration {0}: {1:.4f} - train acc: {2:.2f} - test acc: {3:.2f}\".format(i,cost,train_acc,test_acc))\n",
    "        if print_cost and i % 100 == 0:\n",
    "            costs.append(cost)\n",
    "            \n",
    "        #Save the weights every 1000 iterations\n",
    "        if i % 1000 == 0:\n",
    "            save()\n",
    "            \n",
    "    #Save after training\n",
    "    with open('models/params_end_reg_16_8.p', 'wb') as f:\n",
    "        pickle.dump(params, f)\n",
    "            \n",
    "    # plot the cost\n",
    "    plt.plot(np.squeeze(costs))\n",
    "    plt.ylabel('cost')\n",
    "    plt.xlabel('iterations (per tens)')\n",
    "    plt.title(\"Learning rate =\" + str(lr))\n",
    "    plt.show()\n",
    "    \n",
    "    return params, AL"
   ]
  },
  {
   "cell_type": "code",
   "execution_count": 18,
   "metadata": {},
   "outputs": [],
   "source": [
    "def train_test_split(X, Y, split = 80):\n",
    "    dataset_size = X.shape[1]\n",
    "    m_train = math.floor((dataset_size * split)/100)\n",
    "    X_train = X[:,0:m_train]\n",
    "    X_test = X[:,m_train-1:-1]\n",
    "    Y_train = Y[:,0:m_train]\n",
    "    Y_test = Y[:,m_train-1:-1]\n",
    "    \n",
    "    return X_train, Y_train, X_test, Y_test"
   ]
  },
  {
   "cell_type": "markdown",
   "metadata": {},
   "source": [
    "##### Load the dataset"
   ]
  },
  {
   "cell_type": "code",
   "execution_count": 42,
   "metadata": {},
   "outputs": [],
   "source": [
    "data  = unpickle(\"dataset/data_batch_1\")\n",
    "labels  = unpickle(\"dataset/batches.meta\")[b'label_names']\n",
    "X = data[b'data']\n",
    "Y = np.array(data[b'labels'])\n",
    "X = data[b'data'].T\n",
    "Y = Y.reshape((1,Y.shape[0]))\n",
    "dataset_size = X.shape[1]"
   ]
  },
  {
   "cell_type": "code",
   "execution_count": 43,
   "metadata": {},
   "outputs": [],
   "source": [
    "X = X[:,0:1000]\n",
    "Y = Y[:,0:1000]"
   ]
  },
  {
   "cell_type": "code",
   "execution_count": 44,
   "metadata": {},
   "outputs": [],
   "source": [
    "n_y = len(labels)\n",
    "Y = one_hot(Y, n_y)\n",
    "\n",
    "X_train, Y_train, X_test, Y_test = train_test_split(X, Y, 80)"
   ]
  },
  {
   "cell_type": "code",
   "execution_count": 45,
   "metadata": {},
   "outputs": [],
   "source": [
    "X_train_norm = X_train/255.\n",
    "X_test_norm = X_test/255.\n",
    "m_train = X_train.shape[1]\n",
    "m_test = X_test.shape[1]\n",
    "n_x = X_train.shape[0]\n",
    "n_y = Y_train.shape[0]"
   ]
  },
  {
   "cell_type": "code",
   "execution_count": 61,
   "metadata": {},
   "outputs": [],
   "source": [
    "with open('models/params_end_reg_16_8.p', 'rb') as f:\n",
    "    params = pickle.load(f)"
   ]
  },
  {
   "cell_type": "code",
   "execution_count": 62,
   "metadata": {},
   "outputs": [
    {
     "name": "stdout",
     "output_type": "stream",
     "text": [
      "Cost after iteration 0: 1.2925 - train acc: 78.62 - test acc: 23.50\n",
      "Cost after iteration 100: 1.2900 - train acc: 78.62 - test acc: 23.50\n",
      "Cost after iteration 200: 1.2874 - train acc: 78.62 - test acc: 23.50\n",
      "Cost after iteration 300: 1.2848 - train acc: 78.62 - test acc: 23.50\n",
      "Cost after iteration 400: 1.2823 - train acc: 78.75 - test acc: 23.50\n",
      "Cost after iteration 500: 1.2797 - train acc: 78.75 - test acc: 23.50\n",
      "Cost after iteration 600: 1.2772 - train acc: 78.88 - test acc: 23.50\n",
      "Cost after iteration 700: 1.2749 - train acc: 79.12 - test acc: 23.50\n",
      "Cost after iteration 800: 1.2720 - train acc: 79.12 - test acc: 23.50\n",
      "Cost after iteration 900: 1.2697 - train acc: 79.38 - test acc: 23.50\n",
      "Cost after iteration 1000: 1.2669 - train acc: 79.38 - test acc: 23.50\n",
      "Cost after iteration 1100: 1.2643 - train acc: 79.38 - test acc: 23.50\n",
      "Cost after iteration 1200: 1.2619 - train acc: 79.50 - test acc: 23.50\n",
      "Cost after iteration 1300: 1.2593 - train acc: 79.50 - test acc: 23.50\n",
      "Cost after iteration 1400: 1.2566 - train acc: 79.62 - test acc: 24.00\n",
      "Cost after iteration 1500: 1.2539 - train acc: 79.62 - test acc: 24.00\n",
      "Cost after iteration 1600: 1.2514 - train acc: 79.62 - test acc: 24.00\n",
      "Cost after iteration 1700: 1.2490 - train acc: 79.75 - test acc: 24.50\n",
      "Cost after iteration 1800: 1.2463 - train acc: 79.75 - test acc: 24.50\n",
      "Cost after iteration 1900: 1.2438 - train acc: 79.75 - test acc: 24.50\n",
      "Cost after iteration 2000: 1.2411 - train acc: 79.75 - test acc: 24.50\n",
      "Cost after iteration 2100: 1.2387 - train acc: 79.75 - test acc: 24.50\n",
      "Cost after iteration 2200: 1.2359 - train acc: 79.75 - test acc: 24.00\n",
      "Cost after iteration 2300: 1.2335 - train acc: 79.88 - test acc: 24.50\n",
      "Cost after iteration 2400: 1.2308 - train acc: 79.75 - test acc: 24.50\n",
      "Cost after iteration 2500: 1.2283 - train acc: 80.00 - test acc: 24.00\n",
      "Cost after iteration 2600: 1.2258 - train acc: 80.00 - test acc: 24.00\n",
      "Cost after iteration 2700: 1.2233 - train acc: 80.00 - test acc: 24.00\n",
      "Cost after iteration 2800: 1.2210 - train acc: 80.00 - test acc: 24.00\n",
      "Cost after iteration 2900: 1.2181 - train acc: 80.12 - test acc: 24.00\n",
      "Cost after iteration 3000: 1.2159 - train acc: 80.12 - test acc: 24.00\n",
      "Cost after iteration 3100: 1.2132 - train acc: 80.12 - test acc: 24.00\n",
      "Cost after iteration 3200: 1.2106 - train acc: 80.38 - test acc: 24.00\n",
      "Cost after iteration 3300: 1.2081 - train acc: 80.25 - test acc: 24.00\n",
      "Cost after iteration 3400: 1.2056 - train acc: 80.25 - test acc: 24.00\n",
      "Cost after iteration 3500: 1.2031 - train acc: 80.25 - test acc: 25.00\n",
      "Cost after iteration 3600: 1.2005 - train acc: 80.25 - test acc: 24.50\n",
      "Cost after iteration 3700: 1.1980 - train acc: 80.38 - test acc: 25.00\n",
      "Cost after iteration 3800: 1.1954 - train acc: 80.62 - test acc: 25.00\n",
      "Cost after iteration 3900: 1.1932 - train acc: 80.62 - test acc: 25.00\n",
      "Cost after iteration 4000: 1.1905 - train acc: 80.62 - test acc: 25.00\n",
      "Cost after iteration 4100: 1.1878 - train acc: 80.62 - test acc: 25.00\n",
      "Cost after iteration 4200: 1.1854 - train acc: 80.75 - test acc: 25.00\n",
      "Cost after iteration 4300: 1.1826 - train acc: 80.88 - test acc: 25.00\n",
      "Cost after iteration 4400: 1.1800 - train acc: 81.00 - test acc: 25.00\n",
      "Cost after iteration 4500: 1.1774 - train acc: 81.00 - test acc: 25.00\n",
      "Cost after iteration 4600: 1.1749 - train acc: 81.00 - test acc: 25.00\n",
      "Cost after iteration 4700: 1.1723 - train acc: 81.12 - test acc: 25.00\n",
      "Cost after iteration 4800: 1.1696 - train acc: 81.12 - test acc: 25.00\n",
      "Cost after iteration 4900: 1.1666 - train acc: 81.25 - test acc: 25.00\n"
     ]
    },
    {
     "data": {
      "image/png": "[encoded data removed]",
      "text/plain": [
       "<Figure size 432x288 with 1 Axes>"
      ]
     },
     "metadata": {},
     "output_type": "display_data"
    }
   ],
   "source": [
    "# ## define the network here\n",
    "layer_dims = [n_x, 16, 8, n_y]\n",
    "\n",
    "params, AL = train(X_train_norm, Y_train, X_test_norm, Y_test, layer_dims,num_iterations = 5000,lr = 0.001, lambd = 0.2, re_train = True, param = params)"
   ]
  },
  {
   "cell_type": "code",
   "execution_count": null,
   "metadata": {},
   "outputs": [],
   "source": []
  }
 ],
 "metadata": {
  "kernelspec": {
   "display_name": "Python 3",
   "language": "python",
   "name": "python3"
  },
  "language_info": {
   "codemirror_mode": {
    "name": "ipython",
    "version": 3
   },
   "file_extension": ".py",
   "mimetype": "text/x-python",
   "name": "python",
   "nbconvert_exporter": "python",
   "pygments_lexer": "ipython3",
   "version": "3.6.6"
  }
 },
 "nbformat": 4,
 "nbformat_minor": 2
}
