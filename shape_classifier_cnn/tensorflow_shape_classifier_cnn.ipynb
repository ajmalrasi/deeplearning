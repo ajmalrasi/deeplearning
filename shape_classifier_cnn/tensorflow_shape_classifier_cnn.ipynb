{
 "cells": [
  {
   "cell_type": "code",
   "execution_count": 10,
   "metadata": {},
   "outputs": [],
   "source": [
    "import numpy as np\n",
    "import tensorflow as tf\n",
    "\n",
    "from os import listdir\n",
    "from os.path import isfile, join\n",
    "import cv2\n",
    "import matplotlib.pyplot as plt"
   ]
  },
  {
   "cell_type": "code",
   "execution_count": 11,
   "metadata": {},
   "outputs": [
    {
     "data": {
      "text/plain": [
       "False"
      ]
     },
     "execution_count": 11,
     "metadata": {},
     "output_type": "execute_result"
    }
   ],
   "source": [
    "tf.test.is_gpu_available()"
   ]
  },
  {
   "cell_type": "code",
   "execution_count": 2,
   "metadata": {},
   "outputs": [],
   "source": [
    "'''\n",
    "resize image for faster training\n",
    "and less memory usage\n",
    "\n",
    "'''\n",
    "\n",
    "def image_resize(image, width = None, height = None, inter = cv2.INTER_AREA):\n",
    "    dim = None\n",
    "    (h, w) = image.shape[:2]\n",
    "    if width is None and height is None:\n",
    "        return image\n",
    "    if width is None:\n",
    "        r = height / float(h)\n",
    "        dim = (int(w * r), height)\n",
    "    else:\n",
    "        r = width / float(w)\n",
    "        dim = (width, int(h * r))\n",
    "    resized = cv2.resize(image, dim, interpolation = inter)\n",
    "    return resized"
   ]
  },
  {
   "cell_type": "code",
   "execution_count": 3,
   "metadata": {},
   "outputs": [],
   "source": [
    "'''\n",
    "read images from each directories.\n",
    "convert RGB images to Greyscale\n",
    "reshape to numpy array [num_samples, height, width , 1]\n",
    "create respective labels in one_hot enocded format [num_samples, num_classes]\n",
    "\n",
    "'''\n",
    "def get_data(dist_path, samples):\n",
    "    #initialize empty numpy array\n",
    "    x = np.empty((samples, img_resize, img_resize, 1),\\\n",
    "                 dtype=np.float32)\n",
    "    y = np.empty( ((samples, num_classes)))\n",
    "    index = 0\n",
    "    #loop through each directory\n",
    "    for j, cls in enumerate(classes):\n",
    "        filenames = listdir(join(dist_path,cls))\n",
    "        for filename in filenames:\n",
    "            #convert to Greyscale\n",
    "            #resize to (256, 256, 1)\n",
    "            x[index,:,:] = (image_resize(cv2.imread(join\\\n",
    "                    (dist_path, cls, filename),0),\\\n",
    "                    width =img_resize)/255 )\\\n",
    "                    .reshape(img_height, img_width, 1)\n",
    "            temp = np.zeros((num_classes), dtype=np.int32)\n",
    "            temp[j] = 1\n",
    "            y[index,:] = temp\n",
    "            index+=1\n",
    "    return x, y\n",
    "\n",
    "\n",
    "'''\n",
    "find mean and variance for \n",
    "normalizing dataset\n",
    "'''\n",
    "def mean(X, n):\n",
    "    return X.sum()/n\n",
    "\n",
    "def variance(X, n):\n",
    "    return np.square(X).sum() / n\n",
    "\n",
    "'''\n",
    "get image shape\n",
    "'''\n",
    "def get_image_prop(path):\n",
    "    category = listdir(path)[0]\n",
    "    filename = listdir(join(path, category))[0]\n",
    "    return image_resize(cv2.imread(join(path, category,filename)),width = img_resize).shape"
   ]
  },
  {
   "cell_type": "code",
   "execution_count": 4,
   "metadata": {},
   "outputs": [],
   "source": [
    "train_path = 'train'\n",
    "test_path = 'test'\n",
    "img_resize = 256 # reshape size\n",
    "classes = sorted(listdir(train_path)) #class names\n",
    "num_classes = len(classes) # number of output classes\n",
    "img_height, img_width, _ = get_image_prop(test_path) #height and width of image\n",
    "train_samples = sum([len(listdir(join(train_path, cls))) for cls in classes]) #number of training examples\n",
    "test_samples = sum([len(listdir(join(test_path, cls))) for cls in classes])  #number of test examples"
   ]
  },
  {
   "cell_type": "code",
   "execution_count": 4,
   "metadata": {},
   "outputs": [],
   "source": [
    "# Create cnn some wrappers\n",
    "def conv2d(x, W, b, strides=1):\n",
    "    #convolution layer with bias\n",
    "    x = tf.nn.conv2d(x, W, strides=[1, strides, strides, 1], padding='SAME')\n",
    "    x = tf.nn.bias_add(x, b)\n",
    "    return tf.nn.relu(x)\n",
    "\n",
    "\n",
    "def maxpool2d(x, k=2):\n",
    "    #max pooling for downsampling\n",
    "    return tf.nn.max_pool(x, ksize=[1, k, k, 1], strides=[1, k, k, 1],\n",
    "                          padding='SAME')\n",
    "\n",
    "# Create model\n",
    "def conv_net(x, weights, biases, dropout):\n",
    "    \n",
    "    #convolution layer followed by max pool\n",
    "    conv1 = conv2d(x, weights['wc1'], biases['bc1'])\n",
    "    print(conv1)\n",
    "    conv1 = maxpool2d(conv1, k=2)\n",
    "    print(conv1)\n",
    "\n",
    "    # Convolution Layer\n",
    "    conv2 = conv2d(conv1, weights['wc2'], biases['bc2'])\n",
    "    print(conv2)\n",
    "    conv2 = maxpool2d(conv2, k=2)\n",
    "    print(conv2)\n",
    "    \n",
    "    # Convolution Layer\n",
    "    conv3 = conv2d(conv2, weights['wc3'], biases['bc3'])\n",
    "    print(conv3)\n",
    "    conv3 = maxpool2d(conv3, k=2)\n",
    "    print(conv3)\n",
    "    \n",
    "    #flatted to fully connected layer\n",
    "    fc1 = tf.reshape(conv3, [-1, weights['wd1'].get_shape().as_list()[0]])\n",
    "    print(fc1)\n",
    "    fc1 = tf.add(tf.matmul(fc1, weights['wd1']), biases['bd1'])\n",
    "    print(fc1)\n",
    "    fc1 = tf.nn.relu(fc1)\n",
    "    print(fc1)\n",
    "    # Apply Dropout\n",
    "    fc1 = tf.nn.dropout(fc1, dropout)\n",
    "    print(fc1)\n",
    "\n",
    "    out = tf.add(tf.matmul(fc1, weights['out']), biases['out'])\n",
    "    print(out)\n",
    "    return out"
   ]
  },
  {
   "cell_type": "code",
   "execution_count": 6,
   "metadata": {},
   "outputs": [],
   "source": [
    "X_train, Y_train = get_data(train_path, train_samples)\n",
    "X_test, Y_test= get_data(test_path, test_samples)\n",
    "# shuffle dataset\n",
    "# np.random.seed(0)\n",
    "# np.random.shuffle(X_train)\n",
    "# np.random.shuffle(Y_train)"
   ]
  },
  {
   "cell_type": "code",
   "execution_count": 7,
   "metadata": {},
   "outputs": [],
   "source": [
    "# Normalize inputs\n",
    "# X_mean = (X_train.sum((1,2)) / mat).reshape(-1, 1, 1, 1)\n",
    "# X_variance = (np.square(X_train).sum((1,2)) / mat).reshape(-1, 1, 1, 1)\n",
    "# X_train = (X_train - X_mean) / X_variance"
   ]
  },
  {
   "cell_type": "code",
   "execution_count": 5,
   "metadata": {},
   "outputs": [
    {
     "ename": "NameError",
     "evalue": "name 'X_train' is not defined",
     "output_type": "error",
     "traceback": [
      "\u001b[0;31m---------------------------------------------------------------------------\u001b[0m",
      "\u001b[0;31mNameError\u001b[0m                                 Traceback (most recent call last)",
      "\u001b[0;32m<ipython-input-5-2a7cc6c54f80>\u001b[0m in \u001b[0;36m<module>\u001b[0;34m\u001b[0m\n\u001b[0;32m----> 1\u001b[0;31m \u001b[0mnum_examples\u001b[0m \u001b[0;34m=\u001b[0m \u001b[0mX_train\u001b[0m\u001b[0;34m.\u001b[0m\u001b[0mshape\u001b[0m\u001b[0;34m[\u001b[0m\u001b[0;36m0\u001b[0m\u001b[0;34m]\u001b[0m\u001b[0;34m\u001b[0m\u001b[0;34m\u001b[0m\u001b[0m\n\u001b[0m\u001b[1;32m      2\u001b[0m \u001b[0mnum_steps\u001b[0m \u001b[0;34m=\u001b[0m \u001b[0;36m150\u001b[0m\u001b[0;34m\u001b[0m\u001b[0;34m\u001b[0m\u001b[0m\n\u001b[1;32m      3\u001b[0m \u001b[0mdropout\u001b[0m \u001b[0;34m=\u001b[0m \u001b[0;36m0.75\u001b[0m\u001b[0;34m\u001b[0m\u001b[0;34m\u001b[0m\u001b[0m\n\u001b[1;32m      4\u001b[0m \u001b[0mdisplay_step\u001b[0m \u001b[0;34m=\u001b[0m \u001b[0;36m1\u001b[0m\u001b[0;34m\u001b[0m\u001b[0;34m\u001b[0m\u001b[0m\n\u001b[1;32m      5\u001b[0m \u001b[0mbatch\u001b[0m \u001b[0;34m=\u001b[0m \u001b[0;36m220\u001b[0m\u001b[0;34m\u001b[0m\u001b[0;34m\u001b[0m\u001b[0m\n",
      "\u001b[0;31mNameError\u001b[0m: name 'X_train' is not defined"
     ]
    }
   ],
   "source": [
    "num_examples = X_train.shape[0]\n",
    "num_steps = 150\n",
    "dropout = 0.75\n",
    "display_step = 1\n",
    "batch = 220\n",
    "learning_rate = 0.001"
   ]
  },
  {
   "cell_type": "code",
   "execution_count": 6,
   "metadata": {},
   "outputs": [
    {
     "ename": "NameError",
     "evalue": "name 'img_height' is not defined",
     "output_type": "error",
     "traceback": [
      "\u001b[0;31m---------------------------------------------------------------------------\u001b[0m",
      "\u001b[0;31mNameError\u001b[0m                                 Traceback (most recent call last)",
      "\u001b[0;32m<ipython-input-6-9da3e3e8f326>\u001b[0m in \u001b[0;36m<module>\u001b[0;34m\u001b[0m\n\u001b[1;32m      1\u001b[0m \u001b[0;31m# create placeholders for X and Y\u001b[0m\u001b[0;34m\u001b[0m\u001b[0;34m\u001b[0m\u001b[0;34m\u001b[0m\u001b[0m\n\u001b[1;32m      2\u001b[0m \u001b[0mtf\u001b[0m\u001b[0;34m.\u001b[0m\u001b[0mreset_default_graph\u001b[0m\u001b[0;34m(\u001b[0m\u001b[0;34m)\u001b[0m\u001b[0;34m\u001b[0m\u001b[0;34m\u001b[0m\u001b[0m\n\u001b[0;32m----> 3\u001b[0;31m \u001b[0mX\u001b[0m \u001b[0;34m=\u001b[0m \u001b[0mtf\u001b[0m\u001b[0;34m.\u001b[0m\u001b[0mplaceholder\u001b[0m\u001b[0;34m(\u001b[0m\u001b[0mtf\u001b[0m\u001b[0;34m.\u001b[0m\u001b[0mfloat32\u001b[0m\u001b[0;34m,\u001b[0m \u001b[0;34m[\u001b[0m\u001b[0;32mNone\u001b[0m\u001b[0;34m,\u001b[0m \u001b[0mimg_height\u001b[0m\u001b[0;34m,\u001b[0m \u001b[0mimg_width\u001b[0m\u001b[0;34m,\u001b[0m \u001b[0;36m1\u001b[0m\u001b[0;34m]\u001b[0m\u001b[0;34m)\u001b[0m\u001b[0;34m\u001b[0m\u001b[0;34m\u001b[0m\u001b[0m\n\u001b[0m\u001b[1;32m      4\u001b[0m \u001b[0mY\u001b[0m \u001b[0;34m=\u001b[0m \u001b[0mtf\u001b[0m\u001b[0;34m.\u001b[0m\u001b[0mplaceholder\u001b[0m\u001b[0;34m(\u001b[0m\u001b[0mtf\u001b[0m\u001b[0;34m.\u001b[0m\u001b[0mfloat32\u001b[0m\u001b[0;34m,\u001b[0m \u001b[0;34m[\u001b[0m\u001b[0;32mNone\u001b[0m\u001b[0;34m,\u001b[0m \u001b[0mnum_classes\u001b[0m\u001b[0;34m]\u001b[0m\u001b[0;34m)\u001b[0m\u001b[0;34m\u001b[0m\u001b[0;34m\u001b[0m\u001b[0m\n\u001b[1;32m      5\u001b[0m \u001b[0;34m\u001b[0m\u001b[0m\n",
      "\u001b[0;31mNameError\u001b[0m: name 'img_height' is not defined"
     ]
    }
   ],
   "source": [
    "# create placeholders for X and Y\n",
    "tf.reset_default_graph()\n",
    "X = tf.placeholder(tf.float32, [None, img_height, img_width, 1])\n",
    "Y = tf.placeholder(tf.float32, [None, num_classes])\n",
    "\n",
    "keep_prob = tf.placeholder(tf.float32)"
   ]
  },
  {
   "cell_type": "code",
   "execution_count": 21,
   "metadata": {},
   "outputs": [],
   "source": [
    "'''\n",
    "initialize random filter\n",
    "'''\n",
    "weights = {\n",
    "    # 5x5 conv, 1 input, 4 outputs\n",
    "    'wc1': tf.Variable(tf.random_normal([5, 5, 1, 4])),\n",
    "    'wc2': tf.Variable(tf.random_normal([5, 5, 4, 8])),\n",
    "    'wc3': tf.Variable(tf.random_normal([5, 5, 8, 16])),\n",
    "    'wd1': tf.Variable(tf.random_normal([16384 , 512])),\n",
    "    'out': tf.Variable(tf.random_normal([512, num_classes]))\n",
    "}"
   ]
  },
  {
   "cell_type": "code",
   "execution_count": 7,
   "metadata": {},
   "outputs": [
    {
     "ename": "NameError",
     "evalue": "name 'num_classes' is not defined",
     "output_type": "error",
     "traceback": [
      "\u001b[0;31m---------------------------------------------------------------------------\u001b[0m",
      "\u001b[0;31mNameError\u001b[0m                                 Traceback (most recent call last)",
      "\u001b[0;32m<ipython-input-7-1bcd38b56ba6>\u001b[0m in \u001b[0;36m<module>\u001b[0;34m\u001b[0m\n\u001b[1;32m      7\u001b[0m     \u001b[0;34m'bc3'\u001b[0m\u001b[0;34m:\u001b[0m \u001b[0mtf\u001b[0m\u001b[0;34m.\u001b[0m\u001b[0mVariable\u001b[0m\u001b[0;34m(\u001b[0m\u001b[0mtf\u001b[0m\u001b[0;34m.\u001b[0m\u001b[0mrandom_normal\u001b[0m\u001b[0;34m(\u001b[0m\u001b[0;34m[\u001b[0m\u001b[0;36m16\u001b[0m\u001b[0;34m]\u001b[0m\u001b[0;34m)\u001b[0m\u001b[0;34m)\u001b[0m\u001b[0;34m,\u001b[0m\u001b[0;34m\u001b[0m\u001b[0;34m\u001b[0m\u001b[0m\n\u001b[1;32m      8\u001b[0m     \u001b[0;34m'bd1'\u001b[0m\u001b[0;34m:\u001b[0m \u001b[0mtf\u001b[0m\u001b[0;34m.\u001b[0m\u001b[0mVariable\u001b[0m\u001b[0;34m(\u001b[0m\u001b[0mtf\u001b[0m\u001b[0;34m.\u001b[0m\u001b[0mrandom_normal\u001b[0m\u001b[0;34m(\u001b[0m\u001b[0;34m[\u001b[0m\u001b[0;36m512\u001b[0m\u001b[0;34m]\u001b[0m\u001b[0;34m)\u001b[0m\u001b[0;34m)\u001b[0m\u001b[0;34m,\u001b[0m\u001b[0;34m\u001b[0m\u001b[0;34m\u001b[0m\u001b[0m\n\u001b[0;32m----> 9\u001b[0;31m     \u001b[0;34m'out'\u001b[0m\u001b[0;34m:\u001b[0m \u001b[0mtf\u001b[0m\u001b[0;34m.\u001b[0m\u001b[0mVariable\u001b[0m\u001b[0;34m(\u001b[0m\u001b[0mtf\u001b[0m\u001b[0;34m.\u001b[0m\u001b[0mrandom_normal\u001b[0m\u001b[0;34m(\u001b[0m\u001b[0;34m[\u001b[0m\u001b[0mnum_classes\u001b[0m\u001b[0;34m]\u001b[0m\u001b[0;34m)\u001b[0m\u001b[0;34m)\u001b[0m\u001b[0;34m\u001b[0m\u001b[0;34m\u001b[0m\u001b[0m\n\u001b[0m\u001b[1;32m     10\u001b[0m }\n",
      "\u001b[0;31mNameError\u001b[0m: name 'num_classes' is not defined"
     ]
    }
   ],
   "source": [
    "'''\n",
    "initialize random bias values\n",
    "'''\n",
    "biases = {\n",
    "    'bc1': tf.Variable(tf.random_normal([4])),\n",
    "    'bc2': tf.Variable(tf.random_normal([8])),\n",
    "    'bc3': tf.Variable(tf.random_normal([16])),\n",
    "    'bd1': tf.Variable(tf.random_normal([512])),\n",
    "    'out': tf.Variable(tf.random_normal([num_classes]))\n",
    "}"
   ]
  },
  {
   "cell_type": "code",
   "execution_count": 8,
   "metadata": {},
   "outputs": [
    {
     "ename": "NameError",
     "evalue": "name 'X' is not defined",
     "output_type": "error",
     "traceback": [
      "\u001b[0;31m---------------------------------------------------------------------------\u001b[0m",
      "\u001b[0;31mNameError\u001b[0m                                 Traceback (most recent call last)",
      "\u001b[0;32m<ipython-input-8-c7803baa8048>\u001b[0m in \u001b[0;36m<module>\u001b[0;34m\u001b[0m\n\u001b[0;32m----> 1\u001b[0;31m \u001b[0mlogits\u001b[0m \u001b[0;34m=\u001b[0m \u001b[0mconv_net\u001b[0m\u001b[0;34m(\u001b[0m\u001b[0mX\u001b[0m\u001b[0;34m,\u001b[0m \u001b[0mweights\u001b[0m\u001b[0;34m,\u001b[0m \u001b[0mbiases\u001b[0m\u001b[0;34m,\u001b[0m \u001b[0mkeep_prob\u001b[0m\u001b[0;34m)\u001b[0m\u001b[0;34m\u001b[0m\u001b[0;34m\u001b[0m\u001b[0m\n\u001b[0m\u001b[1;32m      2\u001b[0m \u001b[0;31m#apply softmax to logits for predition\u001b[0m\u001b[0;34m\u001b[0m\u001b[0;34m\u001b[0m\u001b[0;34m\u001b[0m\u001b[0m\n\u001b[1;32m      3\u001b[0m \u001b[0mprediction\u001b[0m \u001b[0;34m=\u001b[0m \u001b[0mtf\u001b[0m\u001b[0;34m.\u001b[0m\u001b[0mnn\u001b[0m\u001b[0;34m.\u001b[0m\u001b[0msoftmax\u001b[0m\u001b[0;34m(\u001b[0m\u001b[0mlogits\u001b[0m\u001b[0;34m)\u001b[0m\u001b[0;34m\u001b[0m\u001b[0;34m\u001b[0m\u001b[0m\n\u001b[1;32m      4\u001b[0m \u001b[0;34m\u001b[0m\u001b[0m\n\u001b[1;32m      5\u001b[0m \u001b[0;31m#calculate croos entropy loss\u001b[0m\u001b[0;34m\u001b[0m\u001b[0;34m\u001b[0m\u001b[0;34m\u001b[0m\u001b[0m\n",
      "\u001b[0;31mNameError\u001b[0m: name 'X' is not defined"
     ]
    }
   ],
   "source": [
    "logits = conv_net(X, weights, biases, keep_prob)\n",
    "#apply softmax to logits for predition\n",
    "prediction = tf.nn.softmax(logits)\n",
    "\n",
    "#calculate croos entropy loss\n",
    "loss_op = tf.reduce_mean(tf.nn.softmax_cross_entropy_with_logits_v2(logits=logits, labels=Y))\n",
    "#initialize adam optimizer\n",
    "optimizer = tf.train.AdamOptimizer(learning_rate=learning_rate).minimize(loss_op)\n",
    "\n",
    "# Evaluate model\n",
    "correct_pred = tf.equal(tf.argmax(prediction, 1), tf.argmax(Y, 1))\n",
    "accuracy = tf.reduce_mean(tf.cast(correct_pred, tf.float32))"
   ]
  },
  {
   "cell_type": "code",
   "execution_count": 9,
   "metadata": {},
   "outputs": [],
   "source": [
    "init = tf.global_variables_initializer()\n",
    "saver = tf.train.Saver()"
   ]
  },
  {
   "cell_type": "code",
   "execution_count": 14,
   "metadata": {},
   "outputs": [
    {
     "name": "stdout",
     "output_type": "stream",
     "text": [
      "epoch 10 on batch 1, train acc= 0.74, loss 23099.28, test acc= 0.63\n",
      "----------------------------------------------------------------------\n",
      "epoch 10 on batch 2, train acc= 0.68, loss 37982.52, test acc= 0.67\n",
      "----------------------------------------------------------------------\n",
      "epoch 20 on batch 1, train acc= 0.86, loss 9503.56, test acc= 0.93\n",
      "----------------------------------------------------------------------\n",
      "epoch 20 on batch 2, train acc= 0.85, loss 13315.06, test acc= 0.93\n",
      "----------------------------------------------------------------------\n",
      "epoch 30 on batch 1, train acc= 0.95, loss 3346.42, test acc= 1.00\n",
      "----------------------------------------------------------------------\n",
      "epoch 30 on batch 2, train acc= 0.91, loss 4538.15, test acc= 1.00\n",
      "----------------------------------------------------------------------\n",
      "epoch 40 on batch 1, train acc= 0.97, loss 1540.98, test acc= 1.00\n",
      "----------------------------------------------------------------------\n",
      "epoch 40 on batch 2, train acc= 0.97, loss 1069.08, test acc= 1.00\n",
      "----------------------------------------------------------------------\n",
      "epoch 50 on batch 1, train acc= 0.99, loss 525.77, test acc= 1.00\n",
      "----------------------------------------------------------------------\n",
      "epoch 50 on batch 2, train acc= 0.99, loss 327.65, test acc= 1.00\n",
      "----------------------------------------------------------------------\n",
      "epoch 60 on batch 1, train acc= 1.00, loss 122.08, test acc= 1.00\n",
      "----------------------------------------------------------------------\n",
      "epoch 60 on batch 2, train acc= 1.00, loss 0.00, test acc= 1.00\n",
      "----------------------------------------------------------------------\n",
      "epoch 70 on batch 1, train acc= 1.00, loss 0.00, test acc= 1.00\n",
      "----------------------------------------------------------------------\n",
      "epoch 70 on batch 2, train acc= 1.00, loss 0.00, test acc= 1.00\n",
      "----------------------------------------------------------------------\n",
      "epoch 80 on batch 1, train acc= 1.00, loss 0.00, test acc= 1.00\n",
      "----------------------------------------------------------------------\n",
      "epoch 80 on batch 2, train acc= 1.00, loss 0.00, test acc= 1.00\n",
      "----------------------------------------------------------------------\n",
      "epoch 90 on batch 1, train acc= 1.00, loss 0.00, test acc= 1.00\n",
      "----------------------------------------------------------------------\n",
      "epoch 90 on batch 2, train acc= 1.00, loss 0.00, test acc= 1.00\n",
      "----------------------------------------------------------------------\n",
      "epoch 100 on batch 1, train acc= 1.00, loss 0.00, test acc= 1.00\n",
      "----------------------------------------------------------------------\n",
      "epoch 100 on batch 2, train acc= 1.00, loss 0.00, test acc= 1.00\n",
      "----------------------------------------------------------------------\n",
      "epoch 110 on batch 1, train acc= 1.00, loss 0.00, test acc= 1.00\n",
      "----------------------------------------------------------------------\n",
      "epoch 110 on batch 2, train acc= 1.00, loss 0.00, test acc= 1.00\n",
      "----------------------------------------------------------------------\n",
      "epoch 120 on batch 1, train acc= 1.00, loss 0.00, test acc= 1.00\n",
      "----------------------------------------------------------------------\n",
      "epoch 120 on batch 2, train acc= 1.00, loss 0.00, test acc= 1.00\n",
      "----------------------------------------------------------------------\n",
      "epoch 130 on batch 1, train acc= 1.00, loss 0.00, test acc= 1.00\n",
      "----------------------------------------------------------------------\n",
      "epoch 130 on batch 2, train acc= 1.00, loss 0.00, test acc= 1.00\n",
      "----------------------------------------------------------------------\n",
      "epoch 140 on batch 1, train acc= 1.00, loss 0.00, test acc= 1.00\n",
      "----------------------------------------------------------------------\n",
      "epoch 140 on batch 2, train acc= 1.00, loss 0.00, test acc= 1.00\n",
      "----------------------------------------------------------------------\n",
      "epoch 150 on batch 1, train acc= 1.00, loss 0.00, test acc= 1.00\n",
      "----------------------------------------------------------------------\n",
      "epoch 150 on batch 2, train acc= 1.00, loss 0.00, test acc= 1.00\n",
      "----------------------------------------------------------------------\n"
     ]
    },
    {
     "data": {
      "image/png": "[encoded data removed]",
      "text/plain": [
       "<Figure size 432x288 with 1 Axes>"
      ]
     },
     "metadata": {
      "needs_background": "light"
     },
     "output_type": "display_data"
    }
   ],
   "source": [
    "# Start training\n",
    "train_acc_list = list()\n",
    "test_acc_list = list()\n",
    "with tf.Session() as sess:\n",
    "    sess.run(init)\n",
    "    for step in range(1, num_steps+1):\n",
    "        for i in range(0, num_examples, batch):\n",
    "            sess.run([optimizer], feed_dict={X: X_train[i:i+batch,:,:,:],\n",
    "                                    Y: Y_train[i:i+batch,:],\n",
    "                                    keep_prob: dropout})\n",
    "            if step % display_step == 0 or step == 1:\n",
    "                acc, loss= sess.run([accuracy, loss_op],\n",
    "                            feed_dict={X: X_train[i:i+batch,:,:,:],\n",
    "                            Y: Y_train[i:i+batch,:],\n",
    "                            keep_prob: 1.0})\n",
    "                test_acc = sess.run([accuracy], feed_dict={X: X_test, Y: Y_test, keep_prob: 1.0})\n",
    "                \n",
    "                train_acc_list.append(acc)\n",
    "                test_acc_list.append(test_acc)\n",
    "                \n",
    "                if step % 10 == 0:\n",
    "                    print(\"epoch \"+str(step)+\" on batch \"+str((i+batch)//batch)+\\\n",
    "                          \", train acc= \" + \"{:.2f}, loss {:.2f}, test acc= {:.2f}\".format(acc, loss, test_acc[0]))\n",
    "                    print(\"-\"*70)\n",
    "        if step % 40 == 0:\n",
    "            #save model every40 steps\n",
    "            saver.save(sess,\"models/pre_trained_cnn.ckpt\", global_step=step)\n",
    "\n",
    "#plot train vs test accuracy\n",
    "plt.plot(np.arange(0, 300, 1),train_acc_list, '-b',label=\"Train Accuracy\")\n",
    "plt.plot(np.arange(0, 300, 1),test_acc_list, '-r',label=\"Test Accuracy\")\n",
    "plt.xlabel(\"iteration\")\n",
    "plt.ylabel(\"accuracy\")\n",
    "plt.legend(loc='lower right')\n",
    "plt.show()"
   ]
  },
  {
   "cell_type": "code",
   "execution_count": 15,
   "metadata": {},
   "outputs": [],
   "source": [
    "# with tf.Session() as sess:\n",
    "#     saver = tf.train.Saver()\n",
    "#     saver.restore(sess, \"models/pre_trained_cnn.ckpt-120\")\n",
    "#     predic_train = sess.run(prediction , feed_dict={X: X_train, keep_prob: 1})\n",
    "#     predic_test = sess.run(prediction , feed_dict={X: X_test, keep_prob: 1})"
   ]
  },
  {
   "cell_type": "code",
   "execution_count": 16,
   "metadata": {},
   "outputs": [],
   "source": [
    "# sum(predic_train.argmax(1) == Y_train.argmax(1)) / 440"
   ]
  },
  {
   "cell_type": "code",
   "execution_count": 17,
   "metadata": {},
   "outputs": [],
   "source": [
    "# sum(predic_test.argmax(1) == Y_test.argmax(1)) / 30"
   ]
  }
 ],
 "metadata": {
  "kernelspec": {
   "display_name": "Python 3",
   "language": "python",
   "name": "python3"
  },
  "language_info": {
   "codemirror_mode": {
    "name": "ipython",
    "version": 3
   },
   "file_extension": ".py",
   "mimetype": "text/x-python",
   "name": "python",
   "nbconvert_exporter": "python",
   "pygments_lexer": "ipython3",
   "version": "3.6.9"
  }
 },
 "nbformat": 4,
 "nbformat_minor": 2
}
