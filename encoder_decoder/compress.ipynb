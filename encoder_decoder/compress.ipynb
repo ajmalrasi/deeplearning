{
 "cells": [
  {
   "cell_type": "code",
   "execution_count": 1,
   "metadata": {},
   "outputs": [],
   "source": [
    "import os\n",
    "import cv2"
   ]
  },
  {
   "cell_type": "code",
   "execution_count": 21,
   "metadata": {},
   "outputs": [],
   "source": [
    "path = 'data/train/y/'\n",
    "save_path = 'data/train/y2/'\n",
    "files = [file for file in os.listdir(path) if os.path.isfile(path+file)]"
   ]
  },
  {
   "cell_type": "code",
   "execution_count": 23,
   "metadata": {},
   "outputs": [],
   "source": [
    "for file in files:\n",
    "    img = cv2.imread(path+file, 0)\n",
    "    edges = cv2.Canny(img, 100, 200)\n",
    "    cv2.imwrite(save_path+file[:-3]+'jpg', edges, [cv2.IMWRITE_JPEG_QUALITY, 40])"
   ]
  },
  {
   "cell_type": "code",
   "execution_count": null,
   "metadata": {},
   "outputs": [],
   "source": []
  }
 ],
 "metadata": {
  "kernelspec": {
   "display_name": "Python 3.6.9 64-bit ('cv': virtualenv)",
   "language": "python",
   "name": "python36964bitcvvirtualenv30719707857b488fb0f8133dd047e775"
  },
  "language_info": {
   "codemirror_mode": {
    "name": "ipython",
    "version": 3
   },
   "file_extension": ".py",
   "mimetype": "text/x-python",
   "name": "python",
   "nbconvert_exporter": "python",
   "pygments_lexer": "ipython3",
   "version": "3.6.9"
  }
 },
 "nbformat": 4,
 "nbformat_minor": 2
}
