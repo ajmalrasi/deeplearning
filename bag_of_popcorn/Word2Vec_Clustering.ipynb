{
 "cells": [
  {
   "cell_type": "code",
   "execution_count": 5,
   "metadata": {},
   "outputs": [],
   "source": [
    "import pandas as pd\n",
    "import warnings\n",
    "warnings.filterwarnings(action='ignore', category=UserWarning, module='gensim')\n",
    "import re\n",
    "from gensim.models import Word2Vec\n",
    "import nltk\n",
    "import numpy as np"
   ]
  },
  {
   "cell_type": "markdown",
   "metadata": {},
   "source": [
    "###### Load Dataset"
   ]
  },
  {
   "cell_type": "code",
   "execution_count": 2,
   "metadata": {},
   "outputs": [],
   "source": [
    "train = pd.read_csv(\"dataset/labeledTrainData.tsv\", header=0, delimiter=\"\\t\", quoting=3)\n",
    "unlabeled_train = pd.read_csv( \"dataset/unlabeledTrainData.tsv\", header=0, delimiter=\"\\t\", quoting=3 )"
   ]
  },
  {
   "cell_type": "code",
   "execution_count": 8,
   "metadata": {},
   "outputs": [],
   "source": [
    "def split_sentence(sentence):\n",
    "    reg1 = re.compile(r\"\\x3C.{1,8}\\x3E\")\n",
    "    reg2 = re.compile(\"[^a-zA-Z0-9]\")\n",
    "    a = re.sub(reg1,\"\",sentence)\n",
    "    b = re.sub(reg2,\" \",a)\n",
    "    return b.lower().split()"
   ]
  },
  {
   "cell_type": "code",
   "execution_count": 9,
   "metadata": {},
   "outputs": [],
   "source": [
    "def pre_process(para):\n",
    "    tokenizer = nltk.tokenize.punkt.PunktSentenceTokenizer()\n",
    "    sentences = list()\n",
    "    paragraphs = tokenizer.tokenize(para)\n",
    "    for sentence in paragraphs:\n",
    "        if len(sentence) > 1:\n",
    "            sentences.append(split_sentence(sentence))\n",
    "    return sentences"
   ]
  },
  {
   "cell_type": "markdown",
   "metadata": {},
   "source": [
    "###### Building sentence list for Word2Vec"
   ]
  },
  {
   "cell_type": "code",
   "execution_count": 10,
   "metadata": {},
   "outputs": [],
   "source": [
    "sentences = list()\n",
    "\n",
    "for review in train[\"review\"].values:\n",
    "    sentences += (pre_process(review))\n",
    "\n",
    "for review in unlabeled_train[\"review\"].values:\n",
    "    sentences += (pre_process(review))"
   ]
  },
  {
   "cell_type": "code",
   "execution_count": 12,
   "metadata": {},
   "outputs": [],
   "source": [
    "cpu_threads = 8\n",
    "dimension = 50\n",
    "min_count = 40\n",
    "window = 10"
   ]
  },
  {
   "cell_type": "markdown",
   "metadata": {},
   "source": [
    "###### Building Word2Vec Model"
   ]
  },
  {
   "cell_type": "code",
   "execution_count": 13,
   "metadata": {},
   "outputs": [],
   "source": [
    "model = Word2Vec(sentences, workers=cpu_threads, size=dimension, min_count = min_count, window = window, sample = 1e-3)\n",
    "model.init_sims(replace=True)\n",
    "\n",
    "model_name = \"imdb_word2Vec_50\"\n",
    "model.save(model_name)"
   ]
  }
 ],
 "metadata": {
  "kernelspec": {
   "display_name": "Python 3",
   "language": "python",
   "name": "python3"
  },
  "language_info": {
   "codemirror_mode": {
    "name": "ipython",
    "version": 3
   },
   "file_extension": ".py",
   "mimetype": "text/x-python",
   "name": "python",
   "nbconvert_exporter": "python",
   "pygments_lexer": "ipython3",
   "version": "3.6.6"
  }
 },
 "nbformat": 4,
 "nbformat_minor": 2
}
