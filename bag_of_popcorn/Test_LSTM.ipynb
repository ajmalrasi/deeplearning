{
 "cells": [
  {
   "cell_type": "code",
   "execution_count": 1,
   "metadata": {},
   "outputs": [],
   "source": [
    "import warnings\n",
    "warnings.filterwarnings(action='ignore', category=UserWarning, module='gensim')\n",
    "\n",
    "import pandas as pd\n",
    "import numpy as np\n",
    "import tensorflow as tf\n",
    "import re\n",
    "from gensim.models import Word2Vec"
   ]
  },
  {
   "cell_type": "code",
   "execution_count": 2,
   "metadata": {},
   "outputs": [],
   "source": [
    "test = pd.read_csv( \"dataset/testData.tsv\", header=0, delimiter=\"\\t\", quoting=1 )"
   ]
  },
  {
   "cell_type": "code",
   "execution_count": 3,
   "metadata": {},
   "outputs": [],
   "source": [
    "def split_sentence(sentence):\n",
    "    reg1 = re.compile(r\"\\x3C.{1,8}\\x3E\")\n",
    "    reg2 = re.compile(\"[^a-zA-Z0-9]\")\n",
    "    a = re.sub(reg1,\"\",sentence)\n",
    "    b = re.sub(reg2,\" \",a)\n",
    "    return b.lower().split()"
   ]
  },
  {
   "cell_type": "code",
   "execution_count": 4,
   "metadata": {},
   "outputs": [],
   "source": [
    "sentences = list()\n",
    "\n",
    "for review in test[\"review\"].values:\n",
    "    sentences.append(split_sentence(review))"
   ]
  },
  {
   "cell_type": "code",
   "execution_count": 5,
   "metadata": {},
   "outputs": [],
   "source": [
    "model = Word2Vec.load(\"imdb_word2Vec\")"
   ]
  },
  {
   "cell_type": "markdown",
   "metadata": {},
   "source": [
    "###### Build Id martix"
   ]
  },
  {
   "cell_type": "code",
   "execution_count": 6,
   "metadata": {},
   "outputs": [],
   "source": [
    "optimal_len = 250\n",
    "num_examples = len(sentences)\n",
    "\n",
    "id_matrix = np.zeros((num_examples, optimal_len), dtype='int32')\n",
    "for i in range(num_examples):\n",
    "    for j in range(len(sentences[i])):\n",
    "        if j < optimal_len:\n",
    "            try:\n",
    "                id_matrix[i,j] = model.wv.vocab.get(sentences[i][j]).index\n",
    "            except AttributeError:\n",
    "                id_matrix[i,j] = 0 # 99999 before"
   ]
  },
  {
   "cell_type": "code",
   "execution_count": 7,
   "metadata": {},
   "outputs": [],
   "source": [
    "def batches(num):\n",
    "    i = batch_size\n",
    "    start  = (num*i)\n",
    "    end = (num*i) + i\n",
    "    return start, end"
   ]
  },
  {
   "cell_type": "code",
   "execution_count": 8,
   "metadata": {},
   "outputs": [],
   "source": [
    "batch_size = 25\n",
    "num_dims = model.wv.vectors.shape[1]\n",
    "lstm_units = 64\n",
    "num_classes = 2"
   ]
  },
  {
   "cell_type": "code",
   "execution_count": 9,
   "metadata": {},
   "outputs": [],
   "source": [
    "tf.reset_default_graph()\n",
    "\n",
    "# lookup\n",
    "idx = tf.placeholder(tf.int32, [batch_size, optimal_len], name=\"idx\")\n",
    "vectors = tf.Variable(tf.constant(model.wv.vectors))\n",
    "X_embedd = tf.nn.embedding_lookup(vectors, idx)"
   ]
  },
  {
   "cell_type": "code",
   "execution_count": 10,
   "metadata": {},
   "outputs": [],
   "source": [
    "X = tf.placeholder(tf.float32, [batch_size, optimal_len, num_dims],name=\"X\")"
   ]
  },
  {
   "cell_type": "code",
   "execution_count": 11,
   "metadata": {},
   "outputs": [],
   "source": [
    "lstm_cell = tf.nn.rnn_cell.BasicLSTMCell(lstm_units)\n",
    "lstm_cell = tf.nn.rnn_cell.DropoutWrapper(cell=lstm_cell, output_keep_prob=0.75)\n",
    "value, _ = tf.nn.dynamic_rnn(lstm_cell, X, dtype=tf.float32)"
   ]
  },
  {
   "cell_type": "code",
   "execution_count": 12,
   "metadata": {},
   "outputs": [],
   "source": [
    "weight = tf.Variable(tf.truncated_normal([lstm_units, num_classes]))\n",
    "bias = tf.Variable(tf.constant(0.1, shape=[num_classes]))\n",
    "value = tf.transpose(value, [1, 0, 2])\n",
    "last = tf.gather(value, int(value.get_shape()[0]) - 1)\n",
    "prediction = (tf.matmul(last, weight) + bias)\n",
    "\n",
    "y_pred = tf.equal(tf.argmax(prediction,1), 0)"
   ]
  },
  {
   "cell_type": "code",
   "execution_count": null,
   "metadata": {},
   "outputs": [
    {
     "name": "stdout",
     "output_type": "stream",
     "text": [
      "INFO:tensorflow:Restoring parameters from models/pretrained_lstm.ckpt-50\n",
      "Predicted 2500 labels\n",
      "Predicted 5000 labels\n",
      "Predicted 7500 labels\n",
      "Predicted 10000 labels\n",
      "Predicted 12500 labels\n",
      "Predicted 15000 labels\n",
      "Predicted 17500 labels\n"
     ]
    }
   ],
   "source": [
    "Y_pred = np.zeros((test.shape[0]), dtype=np.int32)\n",
    "\n",
    "with tf.Session() as sess:\n",
    "    init = tf.global_variables_initializer()\n",
    "    sess.run(init)\n",
    "    saver = tf.train.Saver()\n",
    "    saver.restore(sess, \"models/pretrained_lstm.ckpt-50\")\n",
    "    \n",
    "    for batch in range(test.shape[0]//batch_size):\n",
    "        \n",
    "        #helper function\n",
    "        start, end = batches(batch)\n",
    "            \n",
    "        #curren batch\n",
    "        X_batch = id_matrix[start:end,:]\n",
    "        \n",
    "        X_value = sess.run(X_embedd, {idx: X_batch})\n",
    "        \n",
    "        Y_pred[start:end]  = sess.run(y_pred, {X: X_value})\n",
    "        \n",
    "        if batch % 100 == 0:\n",
    "            print(\"Predicted {} labels\".format(batch*batch_size + (batch_size*100)))"
   ]
  },
  {
   "cell_type": "markdown",
   "metadata": {},
   "source": [
    "###### Save predictions"
   ]
  },
  {
   "cell_type": "code",
   "execution_count": null,
   "metadata": {},
   "outputs": [],
   "source": [
    "import csv\n",
    "pred_df = pd.DataFrame(Y_pred.T, columns=[\"sentiment\"])\n",
    "result = pd.concat([test, pred_df],sort=False,axis=1)\n",
    "final = result.drop(columns=['review'])\n",
    "final.to_csv(\"result_2.csv\",index=False, quoting=csv.QUOTE_NONNUMERIC)"
   ]
  }
 ],
 "metadata": {
  "kernelspec": {
   "display_name": "Python 3",
   "language": "python",
   "name": "python3"
  },
  "language_info": {
   "codemirror_mode": {
    "name": "ipython",
    "version": 3
   },
   "file_extension": ".py",
   "mimetype": "text/x-python",
   "name": "python",
   "nbconvert_exporter": "python",
   "pygments_lexer": "ipython3",
   "version": "3.6.6"
  }
 },
 "nbformat": 4,
 "nbformat_minor": 2
}
